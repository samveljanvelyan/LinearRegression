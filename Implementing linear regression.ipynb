{
 "cells": [
  {
   "cell_type": "markdown",
   "metadata": {},
   "source": [
    "## Linear Regression model formula $$ŷ = intercept + slope \\times x$$\n",
    "\n",
    "\n",
    "## Slope formula $$slope = \\frac{n \\times (Σxy) - (Σx) \\times (Σy)}{n(Σx^2) - (Σx)^2} $$\n",
    "\n",
    "## y_intercept formula $$intercept = \\frac{(Σy) \\times (Σx^2) - (Σx) \\times (Σxy)}{n \\times (Σx^2) - (Σx)^2}$$\n",
    "\n",
    "## Correlation coefficient formula for the sample $$ r = \\frac{1}{n - 1} \\times \\Sigma(\\frac{X_i - \\overline{\\rm X}}{Sx}) \\times \n",
    "\\Sigma(\\frac{Y_i - \\overline{\\rm Y}}{Sy})$$\n",
    "\n",
    "#### *The same formula applies to population except the denominator is n.\n",
    "\n",
    "## Z-Score formula $$ z = \\frac{X_i - \\overline{\\rm X}}{Sx} $$"
   ]
  },
  {
   "cell_type": "markdown",
   "metadata": {},
   "source": [
    "## Implementation\n"
   ]
  },
  {
   "cell_type": "code",
   "execution_count": 1,
   "metadata": {},
   "outputs": [],
   "source": [
    "import matplotlib.pyplot as plt\n",
    "import numpy as np\n",
    "import pandas as pd\n",
    "\n",
    "data = pd.read_csv(\"data.csv\")\n",
    "x_axis = data['x_1'].values\n",
    "y_axis = data['y'].values\n",
    "\n",
    "\n",
    "class LinearRegression:\n",
    "    def __init__(self, x: np.ndarray = x_axis, y: np.ndarray = y_axis):\n",
    "        self.x1 = x\n",
    "        self.y = y\n",
    "        if len(self.x1) != len(self.y):\n",
    "            raise ValueError(print(\"The lengths of arrays are not equal. Please check.\"))\n",
    "\n",
    "        # data count\n",
    "        self.n = len(self.x1)\n",
    "\n",
    "        # Finding Σx\n",
    "        self.sum_x = sum(self.x1)\n",
    "\n",
    "        # Finding Σy\n",
    "        self.sum_y = sum(self.y)\n",
    "\n",
    "        # Finding Σ(xy)\n",
    "        self.sum_x1_times_y = sum(self.x1 * self.y)\n",
    "\n",
    "        # Finding Σx^2\n",
    "        self.sum_x_squared_1 = sum(self.x1 ** 2)\n",
    "\n",
    "        # Finding (Σx)^2\n",
    "        self.sum_x_squared_2 = self.sum_x ** 2\n",
    "\n",
    "    def draw_scatter_plot(self):\n",
    "        plt.figure(figsize=(15, 10))\n",
    "        plt.xlabel('x_1')\n",
    "        plt.ylabel('y')\n",
    "        plt.title('Dependency plot')\n",
    "        plt.scatter(self.x1, self.y, edgecolors='green')\n",
    "\n",
    "    def calculate_slope(self):\n",
    "        # Applying formula\n",
    "        numerator = (self.n * self.sum_x1_times_y) - (self.sum_x * self.sum_y)\n",
    "        denominator = self.n * self.sum_x_squared_1 - self.sum_x_squared_2\n",
    "        slope = numerator / denominator\n",
    "        return slope\n",
    "\n",
    "    def calculate_intercept(self):\n",
    "        # Applying formula\n",
    "        numerator = (self.sum_y * self.sum_x_squared_1) - (self.sum_x * self.sum_x1_times_y)\n",
    "        denominator = self.n * self.sum_x_squared_1 - self.sum_x_squared_2\n",
    "        y_intercept = numerator / denominator\n",
    "        return y_intercept\n",
    "\n",
    "    def predict(self, x_value):\n",
    "        \"\"\"Given the x value predicts the y value.\"\"\"\n",
    "        return self.calculate_slope() * x_value + self.calculate_intercept()\n",
    "\n",
    "    def draw_regression_line(self):\n",
    "        \"\"\"Fitting the line of the model.\"\"\"\n",
    "        self.draw_scatter_plot()\n",
    "        predicted_values = [self.predict(x) for x in self.x1]\n",
    "        plt.plot(self.x1, predicted_values)\n",
    "        plt.xlabel('x1')\n",
    "        plt.ylabel('predicted_y')\n",
    "        plt.show()\n",
    "\n",
    "    def correlation_coefficient(self):\n",
    "        # Calculating the mean of the x1 and y\n",
    "        x_mean = np.mean(self.x1)\n",
    "        y_mean = np.mean(self.y)\n",
    "\n",
    "        # Calculating the standard deviation of x1 and y\n",
    "        x_st_dev = np.std(self.x1)\n",
    "        y_st_dev = np.std(self.y)\n",
    "\n",
    "        x_part = np.array([(x - x_mean) / x_st_dev for x in self.x1])\n",
    "        y_part = np.array([(y - y_mean) / y_st_dev for y in self.y])\n",
    "\n",
    "        numerator = sum(x_part * y_part)\n",
    "        denominator = self.n\n",
    "\n",
    "        correlation_coefficient = numerator / denominator\n",
    "        return correlation_coefficient\n",
    "\n",
    "    def r_squared(self):\n",
    "        return self.correlation_coefficient() ** 2\n",
    "\n",
    "    def __repr__(self):\n",
    "        return ('Regression model is {} = {}x + {}\\nCorrelation coefficient is {}\\n'\n",
    "                'R-squared is {}\\nDraw the regression line '\n",
    "                'using draw_regression_line function.').format('ŷ',\n",
    "                                                               round(self.calculate_slope(), 3),\n",
    "                                                               round(self.calculate_intercept(), 3),\n",
    "                                                               self.correlation_coefficient(),\n",
    "                                                               self.r_squared())\n",
    "    "
   ]
  },
  {
   "cell_type": "code",
   "execution_count": 2,
   "metadata": {},
   "outputs": [],
   "source": [
    "model = LinearRegression()"
   ]
  },
  {
   "cell_type": "code",
   "execution_count": 3,
   "metadata": {},
   "outputs": [
    {
     "data": {
      "text/plain": [
       "2.5029960566496827"
      ]
     },
     "execution_count": 3,
     "metadata": {},
     "output_type": "execute_result"
    }
   ],
   "source": [
    "model.calculate_slope()\n"
   ]
  },
  {
   "cell_type": "code",
   "execution_count": 4,
   "metadata": {},
   "outputs": [
    {
     "data": {
      "text/plain": [
       "9.950236060308614"
      ]
     },
     "execution_count": 4,
     "metadata": {},
     "output_type": "execute_result"
    }
   ],
   "source": [
    "model.calculate_intercept()"
   ]
  },
  {
   "cell_type": "code",
   "execution_count": 5,
   "metadata": {},
   "outputs": [
    {
     "data": {
      "text/plain": [
       "34.98019662680544"
      ]
     },
     "execution_count": 5,
     "metadata": {},
     "output_type": "execute_result"
    }
   ],
   "source": [
    "model.predict(10)"
   ]
  },
  {
   "cell_type": "code",
   "execution_count": 6,
   "metadata": {},
   "outputs": [
    {
     "data": {
      "text/plain": [
       "0.999167097884"
      ]
     },
     "execution_count": 6,
     "metadata": {},
     "output_type": "execute_result"
    }
   ],
   "source": [
    "model.r_squared()\n"
   ]
  },
  {
   "cell_type": "code",
   "execution_count": 7,
   "metadata": {
    "scrolled": false
   },
   "outputs": [
    {
     "data": {
      "image/png": "[encoded data removed]",
      "text/plain": [
       "<Figure size 1080x720 with 1 Axes>"
      ]
     },
     "metadata": {
      "needs_background": "light"
     },
     "output_type": "display_data"
    }
   ],
   "source": [
    "model.draw_regression_line()"
   ]
  }
 ],
 "metadata": {
  "kernelspec": {
   "display_name": "Python 3",
   "language": "python",
   "name": "python3"
  },
  "language_info": {
   "codemirror_mode": {
    "name": "ipython",
    "version": 3
   },
   "file_extension": ".py",
   "mimetype": "text/x-python",
   "name": "python",
   "nbconvert_exporter": "python",
   "pygments_lexer": "ipython3",
   "version": "3.7.0"
  }
 },
 "nbformat": 4,
 "nbformat_minor": 2
}
